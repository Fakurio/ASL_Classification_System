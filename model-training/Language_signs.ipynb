{
 "cells": [
  {
   "cell_type": "code",
   "id": "initial_id",
   "metadata": {
    "collapsed": true,
    "id": "initial_id"
   },
   "source": [
    "import numpy as np\n",
    "import pandas as pd\n",
    "import matplotlib.pyplot as plt\n",
    "from pathlib import Path\n",
    "import os\n",
    "import shutil\n",
    "import zipfile\n",
    "import kaggle\n",
    "import tensorflow as tf\n",
    "from keras.applications.mobilenet_v2 import preprocess_input\n",
    "from keras.applications import MobileNetV2\n",
    "from keras import utils\n",
    "from keras import layers\n",
    "from keras.models import Model, load_model, Sequential\n",
    "from keras.optimizers import Adam\n",
    "from keras.callbacks import EarlyStopping\n",
    "from sklearn.metrics import classification_report, ConfusionMatrixDisplay, confusion_matrix\n",
    "from sklearn.preprocessing import OneHotEncoder"
   ],
   "outputs": [],
   "execution_count": null
  },
  {
   "cell_type": "code",
   "source": [
    "os.makedirs(\"/root/.config/kaggle\", exist_ok=True)\n",
    "shutil.move(\"kaggle.json\", \"/root/.config/kaggle/kaggle.json\")\n",
    "os.chmod(\"/root/.config/kaggle/kaggle.json\", 600)\n",
    "\n",
    "kaggle.api.authenticate()\n",
    "!kaggle datasets download -d grassknoted/asl-alphabet\n",
    "\n",
    "zip_path = 'asl-alphabet.zip'\n",
    "extract_to = 'asl-alphabet'\n",
    "os.makedirs(extract_to, exist_ok=True)\n",
    "with zipfile.ZipFile(zip_path, 'r') as zip_ref:\n",
    "    zip_ref.extractall(extract_to)\n",
    "print(\"Pliki zostały rozpakowane pomyślnie!\")"
   ],
   "metadata": {
    "id": "4CYfESigoizH"
   },
   "id": "4CYfESigoizH",
   "outputs": [],
   "execution_count": null
  },
  {
   "metadata": {},
   "cell_type": "code",
   "source": [
    "train_dataset, val_dataset = utils.image_dataset_from_directory(\n",
    "    \"./asl-alphabet/asl_alphabet_train/asl_alphabet_train\",\n",
    "    image_size=(224, 224),\n",
    "    interpolation=\"nearest\",\n",
    "    validation_split=0.2,\n",
    "    label_mode=\"categorical\",\n",
    "    subset=\"both\",\n",
    "    batch_size=32,\n",
    "    seed=42,\n",
    ")\n",
    "\n",
    "class_names = train_dataset.class_names\n",
    "print(class_names)"
   ],
   "id": "6beac21c18a19ba3",
   "outputs": [],
   "execution_count": null
  },
  {
   "metadata": {},
   "cell_type": "code",
   "source": [
    "test_dir = \"./asl-alphabet/asl_alphabet_test/asl_alphabet_test\"\n",
    "\n",
    "image_paths = []\n",
    "labels = []\n",
    "for fname in os.listdir(test_dir):\n",
    "    label = fname.split(\"_\")[0]\n",
    "    image_paths.append(os.path.join(test_dir, fname))\n",
    "    labels.append(label)\n",
    "\n",
    "le = OneHotEncoder(sparse_output=False)\n",
    "le.fit(np.array(class_names).reshape(-1, 1))\n",
    "y_test = le.transform(np.array(labels).reshape(-1, 1))\n",
    "\n",
    "\n",
    "def load_image(path):\n",
    "    img = utils.load_img(path, target_size=(224, 224))\n",
    "    arr = utils.img_to_array(img)\n",
    "    return preprocess_input(arr)\n",
    "\n",
    "\n",
    "x_test = np.array([load_image(path) for path in image_paths])\n",
    "\n",
    "test_dataset = tf.data.Dataset.from_tensor_slices((x_test, y_test)).batch(32)"
   ],
   "id": "1663b32903075e93",
   "outputs": [],
   "execution_count": null
  },
  {
   "metadata": {},
   "cell_type": "code",
   "source": [
    "data_augmentation = Sequential([\n",
    "    layers.RandomTranslation(0.1, 0.1, fill_mode=\"nearest\"),\n",
    "    layers.RandomZoom(height_factor=0.2, fill_mode=\"nearest\"),\n",
    "    layers.RandomFlip(\"horizontal\"),\n",
    "    layers.RandomBrightness(factor=(-0.1, 0.5)),\n",
    "])\n",
    "\n",
    "\n",
    "def preprocess_and_augment(image, label):\n",
    "    image = data_augmentation(image)\n",
    "    image = preprocess_input(image)\n",
    "    return image, label\n",
    "\n",
    "\n",
    "train_dataset = train_dataset.map(preprocess_and_augment).prefetch(tf.data.AUTOTUNE)\n",
    "val_dataset = val_dataset.map(lambda x, y: (preprocess_input(tf.cast(x, tf.float32)), y)).prefetch(tf.data.AUTOTUNE)"
   ],
   "id": "55a7920398e1cd33",
   "outputs": [],
   "execution_count": null
  },
  {
   "cell_type": "code",
   "source": [
    "pretrained_model = MobileNetV2(\n",
    "    input_shape=(224, 224, 3),\n",
    "    include_top=False,\n",
    "    pooling=\"avg\"\n",
    ")\n",
    "pretrained_model.trainable = False"
   ],
   "metadata": {
    "id": "4UsOtaRNwlJU"
   },
   "id": "4UsOtaRNwlJU",
   "outputs": [],
   "execution_count": null
  },
  {
   "cell_type": "code",
   "source": [
    "inputs = layers.Input(shape=(224, 224, 3))\n",
    "outputs = pretrained_model(inputs, training=False)\n",
    "outputs = layers.Dense(128, activation=\"relu\")(outputs)\n",
    "outputs = layers.Dropout(0.2)(outputs)\n",
    "outputs = layers.Dense(128, activation=\"relu\")(outputs)\n",
    "outputs = layers.Dense(29, activation=\"softmax\")(outputs)\n",
    "\n",
    "model = Model(inputs, outputs)\n",
    "model.compile(optimizer=Adam(), loss=\"categorical_crossentropy\",\n",
    "              metrics=[\"accuracy\"])\n",
    "model.summary()"
   ],
   "metadata": {
    "id": "aUt9yZXQxvH7"
   },
   "id": "aUt9yZXQxvH7",
   "outputs": [],
   "execution_count": null
  },
  {
   "cell_type": "code",
   "source": [
    "early_stopping = EarlyStopping(monitor=\"val_loss\", patience=2, restore_best_weights=True)\n",
    "history = model.fit(train_dataset, validation_data=val_dataset, epochs=10,\n",
    "                    callbacks=[early_stopping])\n",
    "model.save(\"model-train-augment.keras\")"
   ],
   "metadata": {
    "colab": {
     "base_uri": "https://localhost:8080/"
    },
    "id": "i8tSYRLzzF6l",
    "outputId": "4ffac7bd-351a-4cc2-e441-a2dee285e222"
   },
   "id": "i8tSYRLzzF6l",
   "outputs": [],
   "execution_count": null
  },
  {
   "cell_type": "code",
   "source": [
    "train_acc = history.history[\"accuracy\"]\n",
    "train_loss = history.history[\"loss\"]\n",
    "val_acc = history.history[\"val_accuracy\"]\n",
    "val_loss = history.history[\"val_loss\"]\n",
    "\n",
    "fig, ax = plt.subplots(1, 2, figsize=(10, 5))\n",
    "ax[0].plot(train_acc, label=\"train_acc\")\n",
    "ax[0].plot(val_acc, label=\"val_acc\")\n",
    "ax[0].legend()\n",
    "ax[1].plot(train_loss, label=\"train_loss\")\n",
    "ax[1].plot(val_loss, label=\"val_loss\")\n",
    "ax[1].legend()\n",
    "plt.show()"
   ],
   "metadata": {
    "colab": {
     "base_uri": "https://localhost:8080/",
     "height": 448
    },
    "id": "IlsZYM7RGC1k",
    "outputId": "4223f994-0c0f-4396-937e-34c8a7b32527"
   },
   "id": "IlsZYM7RGC1k",
   "outputs": [],
   "execution_count": null
  },
  {
   "cell_type": "code",
   "source": "model = load_model(\"model-train-augment-finetuned.keras\")",
   "metadata": {
    "id": "fhHK7s8Qu_ac"
   },
   "id": "fhHK7s8Qu_ac",
   "outputs": [],
   "execution_count": null
  },
  {
   "cell_type": "code",
   "source": [
    "test_preds = model.evaluate(test_dataset, verbose=0)\n",
    "print(f'Test accuracy: {test_preds[1] * 100}')\n",
    "print(f'Test loss: {test_preds[0]}')"
   ],
   "metadata": {
    "colab": {
     "base_uri": "https://localhost:8080/"
    },
    "id": "F8J1xCruHNYZ",
    "outputId": "6dbb4d0a-a20b-4c05-ae11-dd0173df1d87"
   },
   "id": "F8J1xCruHNYZ",
   "outputs": [],
   "execution_count": null
  },
  {
   "metadata": {},
   "cell_type": "code",
   "source": [
    "test_preds = model.evaluate(val_dataset, verbose=0)\n",
    "print(f'Test accuracy: {test_preds[1] * 100}')\n",
    "print(f'Test loss: {test_preds[0]}')"
   ],
   "id": "12c4e44c11b16110",
   "outputs": [],
   "execution_count": null
  },
  {
   "metadata": {},
   "cell_type": "code",
   "source": [
    "FINE_TUNE_AT = 100\n",
    "\n",
    "for layer in model.layers[1].layers[FINE_TUNE_AT:]:\n",
    "    layer.trainable = True\n",
    "\n",
    "model.compile(\n",
    "    optimizer=Adam(1e-6),\n",
    "    loss=\"categorical_crossentropy\",\n",
    "    metrics=[\"accuracy\"]\n",
    ")\n",
    "\n",
    "#model.summary(show_trainable=True)\n",
    "\n",
    "early_stopping = EarlyStopping(monitor=\"val_loss\", patience=2, restore_best_weights=True)\n",
    "finetuned_history = model.fit(train_dataset, validation_data=val_dataset, epochs=20, initial_epoch=len(history.epoch),\n",
    "                              callbacks=[early_stopping])"
   ],
   "id": "eedbaf09c424282",
   "outputs": [],
   "execution_count": null
  },
  {
   "metadata": {},
   "cell_type": "code",
   "source": "model.save(\"model-train-augment-finetuned.keras\")",
   "id": "Z_Ca2dNZrpiN",
   "outputs": [],
   "execution_count": null
  },
  {
   "metadata": {},
   "cell_type": "code",
   "source": [
    "combined_history = history.history.copy()\n",
    "for key in combined_history.keys():\n",
    "    combined_history[key] = combined_history[key] + finetuned_history.history[key]\n",
    "\n",
    "train_acc = combined_history[\"accuracy\"]\n",
    "train_loss = combined_history[\"loss\"]\n",
    "val_acc = combined_history[\"val_accuracy\"]\n",
    "val_loss = combined_history[\"val_loss\"]\n",
    "\n",
    "fig, ax = plt.subplots(1, 2, figsize=(10, 5))\n",
    "ax[0].plot(train_acc, label=\"train_acc\")\n",
    "ax[0].plot(val_acc, label=\"val_acc\")\n",
    "ax[0].legend()\n",
    "ax[1].plot(train_loss, label=\"train_loss\")\n",
    "ax[1].plot(val_loss, label=\"val_loss\")\n",
    "ax[1].legend()\n",
    "plt.show()"
   ],
   "id": "30392fa5484252d1",
   "outputs": [],
   "execution_count": null
  },
  {
   "metadata": {
    "colab": {
     "base_uri": "https://localhost:8080/",
     "height": 1000
    },
    "id": "JA4IwwJQ9fBY",
    "outputId": "b70cc9e0-0527-447e-bc9e-a75dbb6b3abf"
   },
   "cell_type": "code",
   "source": [
    "def reverse_mobilenet_transform(img):\n",
    "    return (img + 1) * 127.5\n",
    "\n",
    "\n",
    "fig, axes = plt.subplots(4, 7, figsize=(20, 12))\n",
    "index_to_class = {i: cls for i, cls in enumerate(class_names)}\n",
    "print(index_to_class)\n",
    "for images, labels in test_dataset.take(1):\n",
    "    for i, ax in enumerate(axes.flat):\n",
    "        img = reverse_mobilenet_transform(images[i]) / 255.0\n",
    "        ax.imshow(img)\n",
    "        ax.axis('off')\n",
    "\n",
    "        img_to_predict = np.expand_dims(images[i], axis=0)\n",
    "        pred = np.argmax(model.predict(img_to_predict))\n",
    "        predicted_label = index_to_class[pred]\n",
    "        ax.set_title(f'True label: {index_to_class[np.argmax(labels[i])]}\\nPred label: {predicted_label}')\n",
    "\n",
    "plt.show()"
   ],
   "id": "JA4IwwJQ9fBY",
   "outputs": [],
   "execution_count": null
  }
 ],
 "metadata": {
  "kernelspec": {
   "display_name": "Python 3",
   "name": "python3"
  },
  "language_info": {
   "codemirror_mode": {
    "name": "ipython",
    "version": 2
   },
   "file_extension": ".py",
   "mimetype": "text/x-python",
   "name": "python",
   "nbconvert_exporter": "python",
   "pygments_lexer": "ipython2",
   "version": "2.7.6"
  },
  "colab": {
   "provenance": [],
   "gpuType": "T4"
  },
  "accelerator": "GPU"
 },
 "nbformat": 4,
 "nbformat_minor": 5
}
